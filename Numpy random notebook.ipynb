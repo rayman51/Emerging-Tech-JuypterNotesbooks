{
 "cells": [
  {
   "cell_type": "markdown",
   "metadata": {},
   "source": [
    "# Numpy random notebook\n"
   ]
  },
  {
   "cell_type": "markdown",
   "metadata": {},
   "source": [
    "This is a jupyter notebook explaining the concepts\n",
    "behind and the use of the numpy random package, including plots\n",
    "of the various distributions.\n"
   ]
  },
  {
   "cell_type": "markdown",
   "metadata": {},
   "source": [
    "1.numpy.random.uniform (Draw samples from a uniform distribution)"
   ]
  },
  {
   "cell_type": "code",
   "execution_count": 1,
   "metadata": {},
   "outputs": [],
   "source": [
    "import numpy as np"
   ]
  },
  {
   "cell_type": "markdown",
   "metadata": {},
   "source": [
    "This imports the numpy package needed to run the random package"
   ]
  },
  {
   "cell_type": "code",
   "execution_count": 2,
   "metadata": {},
   "outputs": [
    {
     "data": {
      "text/plain": [
       "2.464736412212373"
      ]
     },
     "execution_count": 2,
     "metadata": {},
     "output_type": "execute_result"
    }
   ],
   "source": [
    "np.random.uniform(0.0,10.0)"
   ]
  },
  {
   "cell_type": "markdown",
   "metadata": {},
   "source": [
    "This uses the uniform to generate a random number in a given range (e.g between 0 & 10). In this example I did not specify a size, so it only gave a single random number, but a size can be given and multiple numbers in a range can be generated in an array."
   ]
  },
  {
   "cell_type": "code",
   "execution_count": 3,
   "metadata": {},
   "outputs": [
    {
     "data": {
      "text/plain": [
       "array([1.83059974, 7.84879418, 0.59130596, 5.81183885, 6.1121703 ,\n",
       "       1.937607  ])"
      ]
     },
     "execution_count": 3,
     "metadata": {},
     "output_type": "execute_result"
    }
   ],
   "source": [
    "np.random.uniform(0.0,10.0, 6)"
   ]
  },
  {
   "cell_type": "markdown",
   "metadata": {},
   "source": [
    "2.numpy.random.rand (Random values in a given shape)"
   ]
  },
  {
   "cell_type": "code",
   "execution_count": 4,
   "metadata": {},
   "outputs": [
    {
     "data": {
      "text/plain": [
       "array([[0.59876688, 0.46507713],\n",
       "       [0.58382137, 0.06140328],\n",
       "       [0.37858747, 0.27720144]])"
      ]
     },
     "execution_count": 4,
     "metadata": {},
     "output_type": "execute_result"
    }
   ],
   "source": [
    "np.random.rand(3,2)"
   ]
  },
  {
   "cell_type": "markdown",
   "metadata": {},
   "source": [
    "The rand function allows use to create an array of the given shape and populate it with random samples from a uniform distribution over 0,1.(It is worth noting that the numbers generated start at 0 including zero and stop at 1, but not including 1) The size of this array is set to 3 rows with 2 columns, but it can be changed to meet any shape. For example 5 rows and 10 columns."
   ]
  },
  {
   "cell_type": "code",
   "execution_count": 6,
   "metadata": {},
   "outputs": [
    {
     "data": {
      "text/plain": [
       "array([[0.658851  , 0.08636428, 0.82040292, 0.69070701, 0.71034492,\n",
       "        0.45073648, 0.57520644, 0.66927322, 0.30716453, 0.97549715],\n",
       "       [0.26506397, 0.95761184, 0.11257614, 0.9536733 , 0.63094661,\n",
       "        0.26668105, 0.95625715, 0.82514875, 0.92830874, 0.49168694],\n",
       "       [0.84698895, 0.02703707, 0.47991403, 0.62332141, 0.13884743,\n",
       "        0.3688968 , 0.52115749, 0.44654033, 0.96892861, 0.78942679],\n",
       "       [0.97372727, 0.33395626, 0.32834698, 0.04961681, 0.49538111,\n",
       "        0.60059205, 0.92969657, 0.45492148, 0.57027518, 0.25029181],\n",
       "       [0.77792032, 0.74391467, 0.40083164, 0.95168953, 0.1774844 ,\n",
       "        0.91662905, 0.57388967, 0.34414532, 0.86936065, 0.42146823]])"
      ]
     },
     "execution_count": 6,
     "metadata": {},
     "output_type": "execute_result"
    }
   ],
   "source": [
    "np.random.rand(5,10)"
   ]
  },
  {
   "cell_type": "markdown",
   "metadata": {},
   "source": [
    "You can also leave out the shape and rand will just generate a single number between 0 & 1."
   ]
  },
  {
   "cell_type": "code",
   "execution_count": 7,
   "metadata": {},
   "outputs": [
    {
     "data": {
      "text/plain": [
       "0.9546314274172124"
      ]
     },
     "execution_count": 7,
     "metadata": {},
     "output_type": "execute_result"
    }
   ],
   "source": [
    "np.random.rand()"
   ]
  },
  {
   "cell_type": "markdown",
   "metadata": {},
   "source": [
    "In the next example, I added 3 numbers and the result was 2 arrays with 3 rows and 4 columns."
   ]
  },
  {
   "cell_type": "code",
   "execution_count": 8,
   "metadata": {},
   "outputs": [
    {
     "data": {
      "text/plain": [
       "array([[[0.76864486, 0.48123101, 0.32404477, 0.68459299],\n",
       "        [0.13471616, 0.08308537, 0.39593189, 0.97638693],\n",
       "        [0.55280222, 0.05518952, 0.19128041, 0.95941095]],\n",
       "\n",
       "       [[0.8336837 , 0.1614228 , 0.68979672, 0.82738623],\n",
       "        [0.14018825, 0.26481073, 0.7999231 , 0.28394684],\n",
       "        [0.91823026, 0.78352299, 0.03664519, 0.5209054 ]]])"
      ]
     },
     "execution_count": 8,
     "metadata": {},
     "output_type": "execute_result"
    }
   ],
   "source": [
    "np.random.rand(2, 3 , 4)"
   ]
  },
  {
   "cell_type": "markdown",
   "metadata": {},
   "source": [
    "In the next example we assign the variable x to the array of random numbers. Then I imported the matpltlib package to allow us to view the array in a histogram. The graph is broken into 10 bars and from this we can see that the rand function generated roughly 1000 numbers in ten different intervals."
   ]
  },
  {
   "cell_type": "code",
   "execution_count": 7,
   "metadata": {},
   "outputs": [],
   "source": [
    "x = np.random.rand(10000)"
   ]
  },
  {
   "cell_type": "code",
   "execution_count": 5,
   "metadata": {},
   "outputs": [
    {
     "data": {
      "image/png": "[encoded data removed]",
      "text/plain": [
       "<Figure size 432x288 with 1 Axes>"
      ]
     },
     "metadata": {},
     "output_type": "display_data"
    }
   ],
   "source": [
    "import matplotlib.pyplot as plt\n",
    "plt.hist(x)\n",
    "plt.show()"
   ]
  },
  {
   "cell_type": "code",
   "execution_count": null,
   "metadata": {},
   "outputs": [],
   "source": []
  }
 ],
 "metadata": {
  "kernelspec": {
   "display_name": "Python 3",
   "language": "python",
   "name": "python3"
  },
  "language_info": {
   "codemirror_mode": {
    "name": "ipython",
    "version": 3
   },
   "file_extension": ".py",
   "mimetype": "text/x-python",
   "name": "python",
   "nbconvert_exporter": "python",
   "pygments_lexer": "ipython3",
   "version": "3.6.5"
  }
 },
 "nbformat": 4,
 "nbformat_minor": 2
}
