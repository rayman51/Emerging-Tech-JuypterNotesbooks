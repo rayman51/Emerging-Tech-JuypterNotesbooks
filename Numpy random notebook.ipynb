{
 "cells": [
  {
   "cell_type": "markdown",
   "metadata": {},
   "source": [
    "# Numpy random notebook\n"
   ]
  },
  {
   "cell_type": "markdown",
   "metadata": {},
   "source": [
    "This is a jupyter notebook explaining some of the concepts\n",
    "behind and the use of the numpy random package, including plots\n",
    "of the various distributions.\n"
   ]
  },
  {
   "cell_type": "markdown",
   "metadata": {},
   "source": [
    "### numpy.random.rand (Random values in a given shape)"
   ]
  },
  {
   "cell_type": "markdown",
   "metadata": {},
   "source": [
    "In this first section, I will show a few examples of the rand fuction and produce a histogram at the end to show the data and make it easier to see what the function is doing. This function allows you to randomly generate a number between 0 & 1."
   ]
  },
  {
   "cell_type": "code",
   "execution_count": 1,
   "metadata": {},
   "outputs": [],
   "source": [
    "import numpy as np"
   ]
  },
  {
   "cell_type": "markdown",
   "metadata": {},
   "source": [
    "Imports numpy package"
   ]
  },
  {
   "cell_type": "code",
   "execution_count": 2,
   "metadata": {},
   "outputs": [
    {
     "data": {
      "text/plain": [
       "array([[0.00553114, 0.14842879],\n",
       "       [0.37982203, 0.63708159],\n",
       "       [0.69093452, 0.98522518]])"
      ]
     },
     "execution_count": 2,
     "metadata": {},
     "output_type": "execute_result"
    }
   ],
   "source": [
    "np.random.rand(3,2)"
   ]
  },
  {
   "cell_type": "markdown",
   "metadata": {},
   "source": [
    "The rand function allows use to create an array of the given shape and populate it with random samples from a uniform distribution over 0,1.(It is worth noting that the numbers generated start at 0 including zero and stop at 1, but not including 1) The size of this array is set to 3 rows with 2 columns, but it can be changed to meet any shape. For example 5 rows and 10 columns."
   ]
  },
  {
   "cell_type": "code",
   "execution_count": 3,
   "metadata": {},
   "outputs": [
    {
     "data": {
      "text/plain": [
       "array([[3.62301429e-01, 2.69434401e-01, 8.59739913e-01, 5.14180230e-01,\n",
       "        9.70341892e-01, 7.05296121e-01, 4.21313146e-01, 3.99941599e-01,\n",
       "        5.61578250e-01, 2.47554936e-01],\n",
       "       [8.84487130e-01, 2.55898274e-01, 4.81679656e-01, 7.29541947e-01,\n",
       "        8.44751359e-01, 8.27887564e-01, 3.48129005e-01, 6.86414972e-01,\n",
       "        9.44705887e-01, 1.69771944e-01],\n",
       "       [5.75692578e-01, 4.79151127e-01, 8.06214743e-01, 4.47585552e-01,\n",
       "        9.59533376e-01, 9.03505017e-01, 4.47102498e-04, 7.90207823e-01,\n",
       "        6.59463926e-01, 1.22010207e-01],\n",
       "       [9.00671091e-01, 8.37627309e-01, 2.61526155e-01, 2.47082280e-01,\n",
       "        7.61991815e-01, 9.18585244e-01, 6.36207403e-01, 4.53386884e-01,\n",
       "        6.82333722e-02, 8.25077768e-01],\n",
       "       [5.44633184e-03, 4.94304770e-01, 3.83567340e-01, 2.87878172e-01,\n",
       "        8.78937034e-01, 3.33589747e-01, 2.16630289e-01, 6.77179904e-01,\n",
       "        2.06857920e-01, 4.35728298e-01]])"
      ]
     },
     "execution_count": 3,
     "metadata": {},
     "output_type": "execute_result"
    }
   ],
   "source": [
    "np.random.rand(5,10)"
   ]
  },
  {
   "cell_type": "markdown",
   "metadata": {},
   "source": [
    "You can also leave out the shape and rand will just generate a single number between 0 & 1."
   ]
  },
  {
   "cell_type": "code",
   "execution_count": 4,
   "metadata": {},
   "outputs": [
    {
     "data": {
      "text/plain": [
       "0.7922714423640393"
      ]
     },
     "execution_count": 4,
     "metadata": {},
     "output_type": "execute_result"
    }
   ],
   "source": [
    "np.random.rand()"
   ]
  },
  {
   "cell_type": "markdown",
   "metadata": {},
   "source": [
    "In the next example, I added 3 numbers and the result was 2 arrays with 3 rows and 4 columns."
   ]
  },
  {
   "cell_type": "code",
   "execution_count": 5,
   "metadata": {},
   "outputs": [
    {
     "data": {
      "text/plain": [
       "array([[[0.93620853, 0.95972876, 0.92724428, 0.99422232],\n",
       "        [0.61770867, 0.39009444, 0.2911516 , 0.05466526],\n",
       "        [0.4085037 , 0.82770245, 0.14602096, 0.58178824]],\n",
       "\n",
       "       [[0.84916541, 0.0810023 , 0.82011724, 0.51629141],\n",
       "        [0.31437149, 0.76027322, 0.73055526, 0.31697307],\n",
       "        [0.48726921, 0.77295429, 0.95798693, 0.38644835]]])"
      ]
     },
     "execution_count": 5,
     "metadata": {},
     "output_type": "execute_result"
    }
   ],
   "source": [
    "np.random.rand(2, 3 , 4)"
   ]
  },
  {
   "cell_type": "markdown",
   "metadata": {},
   "source": [
    "In the next example we assign the variable x to the array of random numbers. Then I imported the matpltlib package to allow us to view the array in a histogram. The graph is broken into 10 bars and from this we can see that the rand function generated roughly 1000 numbers in ten different intervals."
   ]
  },
  {
   "cell_type": "code",
   "execution_count": 6,
   "metadata": {},
   "outputs": [],
   "source": [
    "x = np.random.rand(10000)"
   ]
  },
  {
   "cell_type": "code",
   "execution_count": 8,
   "metadata": {},
   "outputs": [
    {
     "data": {
      "image/png": "[encoded data removed]",
      "text/plain": [
       "<Figure size 432x288 with 1 Axes>"
      ]
     },
     "metadata": {},
     "output_type": "display_data"
    }
   ],
   "source": [
    "import matplotlib.pyplot as plt\n",
    "plt.hist(x)\n",
    "plt.show()"
   ]
  },
  {
   "cell_type": "markdown",
   "metadata": {},
   "source": [
    "### numpy.random.uniform (Draw samples from a uniform distribution)"
   ]
  },
  {
   "cell_type": "markdown",
   "metadata": {},
   "source": [
    "The uniform function is similar to the rand function. It also generates random numbers in a range, but uniform allows us to set an upper and lower boundary for the numbers. For example, a low of 1 and an upper of 15, with a size of 8. This function also includes the lower and up to but not including the upper boundary."
   ]
  },
  {
   "cell_type": "code",
   "execution_count": 11,
   "metadata": {},
   "outputs": [
    {
     "data": {
      "text/plain": [
       "array([ 4.05929672,  1.6218967 ,  4.5799988 , 10.45010401, 13.94750892,\n",
       "        6.31327885,  1.28379117,  5.24496659])"
      ]
     },
     "execution_count": 11,
     "metadata": {},
     "output_type": "execute_result"
    }
   ],
   "source": [
    "np.random.uniform(1,15,8)"
   ]
  },
  {
   "cell_type": "code",
   "execution_count": 12,
   "metadata": {},
   "outputs": [
    {
     "data": {
      "text/plain": [
       "2.4199587863364966"
      ]
     },
     "execution_count": 12,
     "metadata": {},
     "output_type": "execute_result"
    }
   ],
   "source": [
    "np.random.uniform(1,15)"
   ]
  },
  {
   "cell_type": "markdown",
   "metadata": {},
   "source": [
    "Again, like the rand function we can leave out the range and it gives us a number between 0 & 1."
   ]
  },
  {
   "cell_type": "code",
   "execution_count": 13,
   "metadata": {},
   "outputs": [
    {
     "data": {
      "text/plain": [
       "0.8492179688120087"
      ]
     },
     "execution_count": 13,
     "metadata": {},
     "output_type": "execute_result"
    }
   ],
   "source": [
    "np.random.uniform()"
   ]
  },
  {
   "cell_type": "markdown",
   "metadata": {},
   "source": [
    "If again we create a histogram, we can see that the uniform function is doing the same thing as the rand function."
   ]
  },
  {
   "cell_type": "code",
   "execution_count": 16,
   "metadata": {},
   "outputs": [],
   "source": [
    "x = np.random.uniform(0,1000,10000)"
   ]
  },
  {
   "cell_type": "code",
   "execution_count": 17,
   "metadata": {},
   "outputs": [
    {
     "data": {
      "text/plain": [
       "(array([ 988., 1006., 1018.,  995.,  995., 1013.,  979., 1041.,  965.,\n",
       "        1000.]),\n",
       " array([2.59606311e-02, 9.99837101e+01, 1.99941460e+02, 2.99899209e+02,\n",
       "        3.99856959e+02, 4.99814708e+02, 5.99772458e+02, 6.99730207e+02,\n",
       "        7.99687957e+02, 8.99645706e+02, 9.99603456e+02]),\n",
       " <a list of 10 Patch objects>)"
      ]
     },
     "execution_count": 17,
     "metadata": {},
     "output_type": "execute_result"
    },
    {
     "data": {
      "image/png": "[encoded data removed]",
      "text/plain": [
       "<Figure size 432x288 with 1 Axes>"
      ]
     },
     "metadata": {},
     "output_type": "display_data"
    }
   ],
   "source": [
    "plt.hist(x)"
   ]
  }
 ],
 "metadata": {
  "kernelspec": {
   "display_name": "Python 3",
   "language": "python",
   "name": "python3"
  },
  "language_info": {
   "codemirror_mode": {
    "name": "ipython",
    "version": 3
   },
   "file_extension": ".py",
   "mimetype": "text/x-python",
   "name": "python",
   "nbconvert_exporter": "python",
   "pygments_lexer": "ipython3",
   "version": "3.6.5"
  }
 },
 "nbformat": 4,
 "nbformat_minor": 2
}
