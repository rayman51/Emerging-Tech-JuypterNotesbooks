{
 "cells": [
  {
   "cell_type": "markdown",
   "metadata": {},
   "source": [
    "## Digit Recognition program"
   ]
  },
  {
   "cell_type": "markdown",
   "metadata": {},
   "source": [
    "In this notebook I will explain a python program I was asked to create for my Emerging Tech Module.\n",
    "The purpose of the program was to\n",
    "- efficient load the [MNIST](http://yann.lecun.com/exdb/mnist/) dataset into memory\n",
    "- create a neural network\n",
    "- develop and train the neural network to recognise handwritten digits\n",
    "- create a working model \n",
    "- allow the program to import an image of a handwritten digit from your machine\n",
    "- get the model to interpret what the digit was \n",
    "\n",
    "In order to run this notebook, you will need to download the files from MNIST and <span style=\"color:red\">save them in a folder called \"data\" </span>in this repo."
   ]
  },
  {
   "cell_type": "markdown",
   "metadata": {},
   "source": [
    "![files](images/files.PNG)"
   ]
  },
  {
   "cell_type": "markdown",
   "metadata": {},
   "source": [
    "#### Imports needed"
   ]
  },
  {
   "cell_type": "code",
   "execution_count": 1,
   "metadata": {},
   "outputs": [
    {
     "name": "stderr",
     "output_type": "stream",
     "text": [
      "C:\\Users\\Ray\\Anaconda3\\lib\\site-packages\\h5py\\__init__.py:36: FutureWarning: Conversion of the second argument of issubdtype from `float` to `np.floating` is deprecated. In future, it will be treated as `np.float64 == np.dtype(float).type`.\n",
      "  from ._conv import register_converters as _register_converters\n",
      "Using TensorFlow backend.\n"
     ]
    }
   ],
   "source": [
    "import gzip # used for unzipping\n",
    "import os.path # used to load existing model\n",
    "import tkinter as tk # used to load img\n",
    "from random import randint # generate random values\n",
    "from tkinter import filedialog #for uploading image files\n",
    "\n",
    "import keras as kr # for creating the network\n",
    "import matplotlib.pyplot as plt\n",
    "import numpy as np # for shaping the data \n",
    "import sklearn.preprocessing as pre # for classification and binary encoding \n",
    "from keras.preprocessing import image"
   ]
  },
  {
   "cell_type": "markdown",
   "metadata": {},
   "source": [
    "## Creating the network"
   ]
  },
  {
   "cell_type": "markdown",
   "metadata": {},
   "source": [
    "#### initialise the network using the sequential model this allows us to add layers"
   ]
  },
  {
   "cell_type": "code",
   "execution_count": 2,
   "metadata": {},
   "outputs": [],
   "source": [
    "model = kr.models.Sequential()\n",
    "\n",
    "# Add a hidden layer with 1000 neurons and an input layer with 784.\n",
    "model.add(kr.layers.Dense(units=1000, activation='relu', input_dim=784))\n",
    "model.add(kr.layers.Dense(units=1000, activation='relu'))\n",
    "model.add(kr.layers.Dense(units=1000, activation='relu'))\n",
    "model.add(kr.layers.Dense(units=1000, activation='relu'))\n",
    "\n",
    "# Add a 10 neuron output layer.\n",
    "model.add(kr.layers.Dense(units=10, activation='softmax'))\n",
    "\n",
    "# Build the graph.\n",
    "model.compile(loss='categorical_crossentropy', optimizer='sgd', metrics=['accuracy'])"
   ]
  },
  {
   "cell_type": "markdown",
   "metadata": {},
   "source": [
    "[Sequential Model](https://keras.io/getting-started/sequential-model-guide/)<br>\n",
    "###### Hidden Layers\n",
    "The first 4 layers are hidden dense layers where the dataset passes through in order for the network to learn.<br> \n",
    "The results are sent from the middle layers to the output layer and compared to the number that has been sent in as image data.<br>\n",
    "###### Output Layers\n",
    "The last layer is the Softmax Activation layer. Softmax activation enables us to calculate the output based on the probabilities. Each class is assigned a probability and the class with the maximum probability is the model’s output for the input."
   ]
  },
  {
   "cell_type": "markdown",
   "metadata": {},
   "source": [
    "####  Unzips the files and reads in as bytes"
   ]
  },
  {
   "cell_type": "code",
   "execution_count": 3,
   "metadata": {},
   "outputs": [],
   "source": [
    "with gzip.open('data/train-images-idx3-ubyte.gz', 'rb') as f:\n",
    "    train_img = f.read()\n",
    "\n",
    "with gzip.open('data/train-labels-idx1-ubyte.gz', 'rb') as f:\n",
    "    train_lbl = f.read()"
   ]
  },
  {
   "cell_type": "markdown",
   "metadata": {},
   "source": [
    "#### reads them into memory  \n",
    "Here we read in the 60000 images in the file and reshape them into 28x28 pixel arrays using the numpy array function.<br>\n",
    "We are also reading in the labels file so the network can check if the prediction was right."
   ]
  },
  {
   "cell_type": "code",
   "execution_count": 4,
   "metadata": {},
   "outputs": [],
   "source": [
    "train_img = ~np.array(list(train_img[16:])).reshape(60000, 28, 28).astype(np.uint8)\n",
    "train_lbl =  np.array(list(train_lbl[ 8:])).astype(np.uint8)"
   ]
  },
  {
   "cell_type": "markdown",
   "metadata": {},
   "source": [
    "Here we convert the data into a single array with each image 784 bytes(28x28)<br>\n",
    "Then the label are coverted to binary values based on its decimal value.<br>\n",
    "We then print the number 5 and it binary value as an example."
   ]
  },
  {
   "cell_type": "code",
   "execution_count": 5,
   "metadata": {},
   "outputs": [
    {
     "name": "stdout",
     "output_type": "stream",
     "text": [
      "5 [0 0 0 0 0 1 0 0 0 0]\n"
     ]
    }
   ],
   "source": [
    "inputs = train_img.reshape(60000, 784)/255\n",
    "# For encoding categorical variables.\n",
    "encoder = pre.LabelBinarizer()\n",
    "encoder.fit(train_lbl)\n",
    "outputs = encoder.transform(train_lbl)\n",
    "\n",
    "print(train_lbl[0], outputs[0])"
   ]
  },
  {
   "cell_type": "markdown",
   "metadata": {},
   "source": [
    "### Training or loading the model\n",
    "In this if statment we either train or load an existing model.<br>\n",
    "If the model already exists the program will just use that one and load it up.<br> The model is saved in a folder called data where the zipped files are stored and is created on the first run of the program.<br>\n",
    "When there is no existing model the images are sent in as input and the labels are fed in as the expected outcome.<br>\n",
    "Each of the 15 epochs processes the full 60000 images and the image are sent in batches of 100.\n"
   ]
  },
  {
   "cell_type": "code",
   "execution_count": 6,
   "metadata": {},
   "outputs": [],
   "source": [
    "if os.path.isfile('data/model.h5'): \n",
    "        model = kr.models.load_model('data/model.h5')\n",
    "# if model already exist uses it\n",
    "else:\n",
    "    model.fit(inputs, outputs, epochs=15, batch_size=100)\n",
    "    model.save(\"data/model.h5\")\n",
    "    #makes model and saves it \n"
   ]
  },
  {
   "cell_type": "markdown",
   "metadata": {},
   "source": [
    "If this is the first time the program is run it will begin creating the model.<br>\n",
    "To view the output of the program look at the [mnist-dataset](mnist-dataset.ipynb) notebook contained in this repo."
   ]
  },
  {
   "cell_type": "markdown",
   "metadata": {},
   "source": [
    "### Testing the network\n",
    "In the next cell we see how we unzip and load in to memory the test images and labels, using the same way we did the training files.<br>\n",
    "Images and labels are then shaped into single arrays. The 10000 images of 784 bytes and the labels in to binary values."
   ]
  },
  {
   "cell_type": "code",
   "execution_count": 7,
   "metadata": {},
   "outputs": [],
   "source": [
    "# ungzips test images and labels\n",
    "with gzip.open('data/t10k-images-idx3-ubyte.gz', 'rb') as f:\n",
    "    test_img = f.read()\n",
    "\n",
    "with gzip.open('data/t10k-labels-idx1-ubyte.gz', 'rb') as f:\n",
    "    test_lbl = f.read()\n",
    "# stores them into memory    \n",
    "test_img = ~np.array(list(test_img[16:])).reshape(10000, 784).astype(np.uint8)\n",
    "test_lbl =  np.array(list(test_lbl[ 8:])).astype(np.uint8)\n",
    "\n",
    "outcome = (encoder.inverse_transform(model.predict(test_img)) == test_lbl).sum()"
   ]
  },
  {
   "cell_type": "code",
   "execution_count": 8,
   "metadata": {},
   "outputs": [
    {
     "name": "stdout",
     "output_type": "stream",
     "text": [
      "9614\n",
      "\n",
      "Model  is 96.14 % Accurate\n",
      "\n"
     ]
    }
   ],
   "source": [
    "print(outcome)\n",
    "print(\"\\nModel  is\", outcome/100,\"% Accurate\\n\")"
   ]
  },
  {
   "cell_type": "markdown",
   "metadata": {},
   "source": [
    "In the cell above the progam tells us the model was able to predict 9614 of the 10000 images right, giving us 96.14% accuracy"
   ]
  },
  {
   "cell_type": "markdown",
   "metadata": {},
   "source": [
    "### Testing the network\n",
    "For this process I have created 2 methods.<br>\n",
    "The first method asks the user how many test they would like to run.<br>\n",
    "It then grabs that many random tests from the test data and tries to predict the number.<br>\n",
    "It prints the index and array of the test case so you can know it is not testing the same data each time.<br>\n",
    "It then print the prediction and the test number to screen(this will be shown at the end of the nootebook)"
   ]
  },
  {
   "cell_type": "code",
   "execution_count": 9,
   "metadata": {},
   "outputs": [],
   "source": [
    "def randomTests():\n",
    "    amm = int(input(\" How many tests would you like to run ? \"))\n",
    "    from random import randint\n",
    "    for i in range(amm):\n",
    "        print(\"Test Case : \", i+1,\"\\n\")\n",
    "        x = randint(0, 9999)\n",
    "        print(\"Test Case index: \", x, \"\\n\")\n",
    "        print(\"Test Case array: \")\n",
    "        test = model.predict(test_img[x:x+1])\n",
    "        # print the array and index of the test case\n",
    "        print(test, \"\\n\")\n",
    "        pred_result = test.argmax(axis=1)\n",
    "\n",
    "        print(\"program has predicted :  \",  pred_result)\n",
    "        print(\" number is :  \", test_lbl[x:x+1])\n",
    "        print(\"===================\")\n"
   ]
  },
  {
   "cell_type": "markdown",
   "metadata": {},
   "source": [
    "The second method allows the user to upload an image of there own to be predicted.<br>\n",
    "A file select box open and the user picks the image.<br>\n",
    "The image is display in a window on the screen, after you close the window the program tries to correctly predict the number."
   ]
  },
  {
   "cell_type": "code",
   "execution_count": 10,
   "metadata": {},
   "outputs": [],
   "source": [
    "def loadImage():\n",
    "    root = tk.Tk()\n",
    "    root.withdraw()\n",
    "    #https://stackoverflow.com/questions/9319317/quick-and-easy-file-dialog-in-python\n",
    "   \n",
    "    file_path = filedialog.askopenfilename()# opens file select window\n",
    "    img = image.load_img(path=file_path,color_mode = \"grayscale\",target_size=(28,28,1))\n",
    "    #loads image into PIL format\n",
    "    image1 = np.array(list(image.img_to_array(img))).reshape(1, 784).astype(np.uint8) / 255.0\n",
    "    # shapes array \n",
    "    plt.imshow(img)\n",
    "    plt.show()\n",
    "    # plots and displays image\n",
    "    test = model.predict(image1)\n",
    "    # runs test of image on model\n",
    "    print(\"program has predicted : \", test.argmax(axis=1))\n",
    "#https://towardsdatascience.com/basics-of-image-classification-with-keras-43779a299c8b"
   ]
  },
  {
   "cell_type": "markdown",
   "metadata": {},
   "source": [
    "The final part of the program is a simple menu that allow the user to pick which type of test they want to preform.\n",
    " - 1 to load an image\n",
    " - 2 to run test case \n",
    " - 3 to exit program"
   ]
  },
  {
   "cell_type": "code",
   "execution_count": null,
   "metadata": {},
   "outputs": [
    {
     "name": "stdout",
     "output_type": "stream",
     "text": [
      "Load an image on your system\n",
      "============================\n",
      "        1 to load image\n",
      "        2 to run test\n",
      "        3 to exit \n",
      " What would you like to do ? 1\n",
      "============================\n"
     ]
    },
    {
     "data": {
      "image/png": "[encoded data removed]",
      "text/plain": [
       "<Figure size 432x288 with 1 Axes>"
      ]
     },
     "metadata": {},
     "output_type": "display_data"
    },
    {
     "name": "stdout",
     "output_type": "stream",
     "text": [
      "program has predicted :  [7]\n",
      "============================\n",
      "        1 to load image\n",
      "        2 to run test\n",
      "        3 to exit \n",
      " What would you like to do ? 2\n",
      "============================\n",
      " How many tests would you like to run ? 2\n",
      "Test Case :  1 \n",
      "\n",
      "Test Case index:  3175 \n",
      "\n",
      "Test Case array: \n",
      "[[0. 1. 0. 0. 0. 0. 0. 0. 0. 0.]] \n",
      "\n",
      "program has predicted :   [1]\n",
      " number is :   [1]\n",
      "===================\n",
      "Test Case :  2 \n",
      "\n",
      "Test Case index:  9403 \n",
      "\n",
      "Test Case array: \n",
      "[[0. 0. 0. 0. 0. 0. 1. 0. 0. 0.]] \n",
      "\n",
      "program has predicted :   [6]\n",
      " number is :   [6]\n",
      "===================\n",
      "============================\n",
      "        1 to load image\n",
      "        2 to run test\n",
      "        3 to exit \n"
     ]
    }
   ],
   "source": [
    "print(\"Load an image on your system\")\n",
    "\n",
    "opt=True\n",
    "while opt:\n",
    "    print(\"============================\")\n",
    "    print(\"\"\"        1 to load image\n",
    "        2 to run test\n",
    "        3 to exit \"\"\")\n",
    "    opt= input(\" What would you like to do ? \")\n",
    "    print(\"============================\")\n",
    "    #https://stackoverflow.com/questions/19964603/creating-a-menu-in-python\n",
    "\n",
    "    if opt == \"1\":\n",
    "        loadImage()\n",
    "    elif opt == \"2\":\n",
    "        randomTests()\n",
    "    elif opt == \"3\":\n",
    "        exit()\n",
    "    else: \n",
    "        print(\"Invalid Entry\")\n"
   ]
  },
  {
   "cell_type": "markdown",
   "metadata": {},
   "source": [
    "### End"
   ]
  }
 ],
 "metadata": {
  "kernelspec": {
   "display_name": "Python 3",
   "language": "python",
   "name": "python3"
  },
  "language_info": {
   "codemirror_mode": {
    "name": "ipython",
    "version": 3
   },
   "file_extension": ".py",
   "mimetype": "text/x-python",
   "name": "python",
   "nbconvert_exporter": "python",
   "pygments_lexer": "ipython3",
   "version": "3.6.5"
  }
 },
 "nbformat": 4,
 "nbformat_minor": 2
}
